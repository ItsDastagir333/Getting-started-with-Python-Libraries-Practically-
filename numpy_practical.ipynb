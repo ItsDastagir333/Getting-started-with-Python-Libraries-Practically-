{
  "nbformat": 4,
  "nbformat_minor": 0,
  "metadata": {
    "colab": {
      "provenance": []
    },
    "kernelspec": {
      "name": "python3",
      "display_name": "Python 3"
    },
    "language_info": {
      "name": "python"
    }
  },
  "cells": [
    {
      "cell_type": "markdown",
      "source": [
        "\n",
        "\n",
        "#Getting Started with Numpy\n",
        "In this practical we gonna study about NumPY i.e. Numerical Python. This is the library that provides us with the functions over multidimensional array objects, Numerical and logical operations over the arrays, operations related to Linear Algebra. "
      ],
      "metadata": {
        "id": "BDTMHA--iO09"
      }
    },
    {
      "cell_type": "code",
      "execution_count": null,
      "metadata": {
        "id": "vprbKWFRZZM9"
      },
      "outputs": [],
      "source": [
        "#Importing the required libraries\n",
        "import numpy as np\n"
      ]
    },
    {
      "cell_type": "markdown",
      "source": [
        "#Numpy Functions"
      ],
      "metadata": {
        "id": "jj3zyavrlHbE"
      }
    },
    {
      "cell_type": "markdown",
      "source": [
        "#Array\n",
        "it is the most important object in the Numpy. Also called as N-dimensional array\n",
        "#Syntax\n",
        "np.array(object, dtype=None, copy=True, order=None, subok=False, ndmin=0)\n",
        "\n"
      ],
      "metadata": {
        "id": "8XiLMSu5lu90"
      }
    },
    {
      "cell_type": "markdown",
      "source": [
        "Declaring array"
      ],
      "metadata": {
        "id": "NhdTjiXaQdS4"
      }
    },
    {
      "cell_type": "code",
      "source": [
        "#declaring the 1d Array\n",
        "a = np.array([1,2,3,4,5],dtype=int)\n",
        "a"
      ],
      "metadata": {
        "id": "3AEEEh7Hp1BS",
        "colab": {
          "base_uri": "https://localhost:8080/"
        },
        "outputId": "d3dab8b9-aa7d-4421-bce1-150086f7d73c"
      },
      "execution_count": null,
      "outputs": [
        {
          "output_type": "execute_result",
          "data": {
            "text/plain": [
              "array([1, 2, 3, 4, 5])"
            ]
          },
          "metadata": {},
          "execution_count": 2
        }
      ]
    },
    {
      "cell_type": "code",
      "source": [
        "#2) Declaring the 2D array\n",
        "a = np.array([[1,2,3,4],[5,6,7,8],[9,10,11,12]],dtype=\"complex\")\n",
        "a"
      ],
      "metadata": {
        "colab": {
          "base_uri": "https://localhost:8080/"
        },
        "id": "ZwnuAHYEH3sS",
        "outputId": "82e7a28c-ac8c-41f5-8bb9-08514a4419ca"
      },
      "execution_count": null,
      "outputs": [
        {
          "output_type": "execute_result",
          "data": {
            "text/plain": [
              "array([[ 1.+0.j,  2.+0.j,  3.+0.j,  4.+0.j],\n",
              "       [ 5.+0.j,  6.+0.j,  7.+0.j,  8.+0.j],\n",
              "       [ 9.+0.j, 10.+0.j, 11.+0.j, 12.+0.j]])"
            ]
          },
          "metadata": {},
          "execution_count": 3
        }
      ]
    },
    {
      "cell_type": "code",
      "source": [
        "#3)Knowing the type of declared array\n",
        "a = np.array([[1,2,3,4],[5,6,7,8],[9,10,11,12]])\n",
        "type(a)"
      ],
      "metadata": {
        "id": "GirDS2O5qdax",
        "colab": {
          "base_uri": "https://localhost:8080/"
        },
        "outputId": "a0ebe8bf-e960-463d-c87d-f6caf08949c6"
      },
      "execution_count": null,
      "outputs": [
        {
          "output_type": "execute_result",
          "data": {
            "text/plain": [
              "numpy.ndarray"
            ]
          },
          "metadata": {},
          "execution_count": 4
        }
      ]
    },
    {
      "cell_type": "code",
      "source": [
        "# 4) Getting the Dimension of the array\n",
        "a = np.array([[1,2,3,4],[5,6,7,8],[9,10,11,12]])\n",
        "a.ndim"
      ],
      "metadata": {
        "id": "yhemwLJxBx4A",
        "colab": {
          "base_uri": "https://localhost:8080/"
        },
        "outputId": "fce89baf-d1bb-4555-d2e4-fd01be921173"
      },
      "execution_count": null,
      "outputs": [
        {
          "output_type": "execute_result",
          "data": {
            "text/plain": [
              "2"
            ]
          },
          "metadata": {},
          "execution_count": 5
        }
      ]
    },
    {
      "cell_type": "code",
      "source": [
        "# 5) Getting the data type of the array elements \n",
        "a = np.array([[1,2,3,4],[5,6,7,8],[9,10,11,12]])\n",
        "a.dtype"
      ],
      "metadata": {
        "id": "HbmmwhmoB1Yb",
        "colab": {
          "base_uri": "https://localhost:8080/"
        },
        "outputId": "c9184f71-740b-497b-d956-9677e1ad3b42"
      },
      "execution_count": null,
      "outputs": [
        {
          "output_type": "execute_result",
          "data": {
            "text/plain": [
              "dtype('int64')"
            ]
          },
          "metadata": {},
          "execution_count": 6
        }
      ]
    },
    {
      "cell_type": "code",
      "source": [
        "# 6) Getting the size of the array\n",
        "a = np.array([[1,2,3,4],[5,6,7,8],[9,10,11,12]])\n",
        "a.size"
      ],
      "metadata": {
        "id": "lgbQB-QwB9Zz",
        "colab": {
          "base_uri": "https://localhost:8080/"
        },
        "outputId": "29df19eb-ee04-4e89-a5b0-001a0eebfe7a"
      },
      "execution_count": null,
      "outputs": [
        {
          "output_type": "execute_result",
          "data": {
            "text/plain": [
              "12"
            ]
          },
          "metadata": {},
          "execution_count": 7
        }
      ]
    },
    {
      "cell_type": "code",
      "source": [
        "# 7) Getting the Shape of the array i.e. how many rows and columns are present in the array\n",
        "a = np.array([[1,2,3,4],[5,6,7,8],[9,10,11,12]])\n",
        "a.shape"
      ],
      "metadata": {
        "id": "60T91YajBu-A",
        "colab": {
          "base_uri": "https://localhost:8080/"
        },
        "outputId": "9ae9908e-8156-4fed-cefa-db4b9c84bbde"
      },
      "execution_count": null,
      "outputs": [
        {
          "output_type": "execute_result",
          "data": {
            "text/plain": [
              "(3, 4)"
            ]
          },
          "metadata": {},
          "execution_count": 8
        }
      ]
    },
    {
      "cell_type": "code",
      "source": [
        "# 8) Reshaping the array\n",
        "b=a.reshape(4,3)\n",
        "b"
      ],
      "metadata": {
        "colab": {
          "base_uri": "https://localhost:8080/"
        },
        "id": "dHkRS7m-TO2F",
        "outputId": "cbbc054b-781a-4fd4-be2f-612b4d279558"
      },
      "execution_count": null,
      "outputs": [
        {
          "output_type": "execute_result",
          "data": {
            "text/plain": [
              "array([[ 1,  2,  3],\n",
              "       [ 4,  5,  6],\n",
              "       [ 7,  8,  9],\n",
              "       [10, 11, 12]])"
            ]
          },
          "metadata": {},
          "execution_count": 9
        }
      ]
    },
    {
      "cell_type": "markdown",
      "source": [
        "#Basic Arithmatic Operations"
      ],
      "metadata": {
        "id": "PVmQNeoRMKDI"
      }
    },
    {
      "cell_type": "code",
      "source": [
        "#9) Concatenating the two arrays \n",
        "a=np.array([[1,2,3,4],[1,7,0,6]])\n",
        "b=np.array([[2,5,6,8],[3,7,4,9]])\n",
        "c=np.concatenate((a,b))\n",
        "print(c)\n",
        "# Now concatenating two arrays based on rows i.e. Axis = 1\n",
        "d=np.concatenate((a,b),axis=1)\n",
        "print(d)"
      ],
      "metadata": {
        "colab": {
          "base_uri": "https://localhost:8080/"
        },
        "id": "wrorDyBENBx7",
        "outputId": "9a917760-b94f-44ef-9921-790ce9f45ccc"
      },
      "execution_count": null,
      "outputs": [
        {
          "output_type": "stream",
          "name": "stdout",
          "text": [
            "[[1 2 3 4]\n",
            " [1 7 0 6]\n",
            " [2 5 6 8]\n",
            " [3 7 4 9]]\n",
            "[[1 2 3 4 2 5 6 8]\n",
            " [1 7 0 6 3 7 4 9]]\n"
          ]
        }
      ]
    },
    {
      "cell_type": "code",
      "source": [
        "# 10) Adding elements of the two arrays \n",
        "a=np.array([[1,2,3,4],[1,7,0,6]])\n",
        "b=np.array([[2,5,6,8],[3,7,4,9]])\n",
        "c=np.add(a,b)\n",
        "print(a+b)\n",
        "c"
      ],
      "metadata": {
        "colab": {
          "base_uri": "https://localhost:8080/"
        },
        "id": "Ui-9hzcTN8wJ",
        "outputId": "da0ccd73-8c6b-497e-aa65-ce6425c1912a"
      },
      "execution_count": null,
      "outputs": [
        {
          "output_type": "stream",
          "name": "stdout",
          "text": [
            "[[ 3  7  9 12]\n",
            " [ 4 14  4 15]]\n"
          ]
        },
        {
          "output_type": "execute_result",
          "data": {
            "text/plain": [
              "array([[ 3,  7,  9, 12],\n",
              "       [ 4, 14,  4, 15]])"
            ]
          },
          "metadata": {},
          "execution_count": 11
        }
      ]
    },
    {
      "cell_type": "code",
      "source": [
        "# 11) Subtracting the array elements of two arrays\n",
        "a=np.array([[1,2,3,4],[1,7,0,6]])\n",
        "b=np.array([[2,5,6,8],[3,7,4,9]])\n",
        "c=np.subtract(a,b)\n",
        "print(a-b)\n",
        "c"
      ],
      "metadata": {
        "colab": {
          "base_uri": "https://localhost:8080/"
        },
        "id": "j8ymlvzwONG8",
        "outputId": "5c56fed8-1996-4ca5-cc4a-c358201066bf"
      },
      "execution_count": null,
      "outputs": [
        {
          "output_type": "stream",
          "name": "stdout",
          "text": [
            "[[-1 -3 -3 -4]\n",
            " [-2  0 -4 -3]]\n"
          ]
        },
        {
          "output_type": "execute_result",
          "data": {
            "text/plain": [
              "array([[-1, -3, -3, -4],\n",
              "       [-2,  0, -4, -3]])"
            ]
          },
          "metadata": {},
          "execution_count": 12
        }
      ]
    },
    {
      "cell_type": "code",
      "source": [
        "#12) Taking the product of two arrays\n",
        "a=np.array([[1,2,3,4],[1,7,0,6]])\n",
        "b=np.array([[2,5,6,8],[3,5,4,9]])\n",
        "c=np.prod((a,b))\n",
        "print(a*b)\n",
        "c"
      ],
      "metadata": {
        "colab": {
          "base_uri": "https://localhost:8080/"
        },
        "id": "Q3Vh-XVeRbld",
        "outputId": "818c03cb-51b1-47dc-eb71-a06c4ebb3a36"
      },
      "execution_count": null,
      "outputs": [
        {
          "output_type": "stream",
          "name": "stdout",
          "text": [
            "[[ 2 10 18 32]\n",
            " [ 3 35  0 54]]\n"
          ]
        },
        {
          "output_type": "execute_result",
          "data": {
            "text/plain": [
              "0"
            ]
          },
          "metadata": {},
          "execution_count": 13
        }
      ]
    },
    {
      "cell_type": "code",
      "source": [
        "#13) Taking Matrix multiplication of the two matrices\n",
        "a=np.array([[1,2,3,4],[1,7,0,6]])\n",
        "b=np.array([[2,5],[6,8],[3,5],[4,9]])\n",
        "print(a@b)    #Matrix Product"
      ],
      "metadata": {
        "id": "ccLYdRuhMYL-",
        "colab": {
          "base_uri": "https://localhost:8080/"
        },
        "outputId": "976f1b88-2d35-411a-9051-7074c87a0bca"
      },
      "execution_count": null,
      "outputs": [
        {
          "output_type": "stream",
          "name": "stdout",
          "text": [
            "[[ 39  72]\n",
            " [ 68 115]]\n"
          ]
        }
      ]
    },
    {
      "cell_type": "code",
      "source": [
        "# 14) Taking dor product of two matrices\n",
        "a=np.array([[1,2,3,4],[1,7,0,6]])\n",
        "b=np.array([[2,5],[6,8],[3,5],[4,9]])\n",
        "a.dot(b)      #matrix Product"
      ],
      "metadata": {
        "id": "s46jwbGEMmQF",
        "colab": {
          "base_uri": "https://localhost:8080/"
        },
        "outputId": "fea0e720-908b-40c9-9833-44adba8dbd9e"
      },
      "execution_count": null,
      "outputs": [
        {
          "output_type": "execute_result",
          "data": {
            "text/plain": [
              "array([[ 39,  72],\n",
              "       [ 68, 115]])"
            ]
          },
          "metadata": {},
          "execution_count": 18
        }
      ]
    },
    {
      "cell_type": "code",
      "source": [
        "# 15) Taking sum of all elements present in the matrix\n",
        "a=np.array([[1,2,3,4],[1,7,0,6]])\n",
        "a.sum()"
      ],
      "metadata": {
        "colab": {
          "base_uri": "https://localhost:8080/"
        },
        "id": "4L7iwNixODiT",
        "outputId": "0f80be18-b036-4041-b62a-2f67875637b0"
      },
      "execution_count": null,
      "outputs": [
        {
          "output_type": "execute_result",
          "data": {
            "text/plain": [
              "24"
            ]
          },
          "metadata": {},
          "execution_count": 15
        }
      ]
    },
    {
      "cell_type": "code",
      "source": [
        "# 16) Getting the minimum element from the declared matrix\n",
        "a=np.array([[1,2,3,4],[1,7,0,6]])\n",
        "a.min()"
      ],
      "metadata": {
        "id": "e6cIagXcOeT6",
        "colab": {
          "base_uri": "https://localhost:8080/"
        },
        "outputId": "15143854-13d7-474d-bb40-901296e1d299"
      },
      "execution_count": null,
      "outputs": [
        {
          "output_type": "execute_result",
          "data": {
            "text/plain": [
              "0"
            ]
          },
          "metadata": {},
          "execution_count": 19
        }
      ]
    },
    {
      "cell_type": "code",
      "source": [
        "# 17) Getting the maximum element from the declared array or the matrix\n",
        "a=np.array([[1,2,3,4],[1,7,0,6]])\n",
        "a.max()"
      ],
      "metadata": {
        "id": "4HeGcey-Ohd0",
        "colab": {
          "base_uri": "https://localhost:8080/"
        },
        "outputId": "5b15b584-8394-4b54-c710-1883983f193c"
      },
      "execution_count": null,
      "outputs": [
        {
          "output_type": "execute_result",
          "data": {
            "text/plain": [
              "7"
            ]
          },
          "metadata": {},
          "execution_count": 20
        }
      ]
    },
    {
      "cell_type": "code",
      "source": [
        "# 18) Knowing the sum, min and cumulative sum of column and row separately\n",
        "a=np.array([[1,2,3,4],[1,7,0,6]])\n",
        "print(a.sum(axis=0))\n",
        "print(a.min(axis=1))\n",
        "print(a.cumsum(axis=1))"
      ],
      "metadata": {
        "colab": {
          "base_uri": "https://localhost:8080/"
        },
        "id": "K04s0N80OwvX",
        "outputId": "e217ac0c-41ef-479b-b62e-c1b3eeddb8fc"
      },
      "execution_count": null,
      "outputs": [
        {
          "output_type": "stream",
          "name": "stdout",
          "text": [
            "[ 2  9  3 10]\n",
            "[1 0]\n",
            "[[ 1  3  6 10]\n",
            " [ 1  8  8 14]]\n"
          ]
        }
      ]
    },
    {
      "cell_type": "code",
      "source": [
        "# 19) Knowing the exponential and squareroot value of each element present in the array\n",
        "b=np.arange(5)\n",
        "print(b)\n",
        "print(np.exp(b))\n",
        "print(np.sqrt(b))"
      ],
      "metadata": {
        "colab": {
          "base_uri": "https://localhost:8080/"
        },
        "id": "nefH5UJxPxrT",
        "outputId": "af6525d9-7be8-49fa-86ff-25dda83724b5"
      },
      "execution_count": null,
      "outputs": [
        {
          "output_type": "stream",
          "name": "stdout",
          "text": [
            "[0 1 2 3 4]\n",
            "[ 1.          2.71828183  7.3890561  20.08553692 54.59815003]\n",
            "[0.         1.         1.41421356 1.73205081 2.        ]\n"
          ]
        }
      ]
    },
    {
      "cell_type": "code",
      "source": [
        "# 20) Getting the seqential no. with defined space\n",
        "c=np.arange(6)\n",
        "d=np.arange(1,10,2)\n",
        "c\n",
        "d"
      ],
      "metadata": {
        "colab": {
          "base_uri": "https://localhost:8080/"
        },
        "id": "tCFRXGCqSrIR",
        "outputId": "e68e7151-c16b-4dec-a65c-21c429f3a516"
      },
      "execution_count": null,
      "outputs": [
        {
          "output_type": "execute_result",
          "data": {
            "text/plain": [
              "array([1, 3, 5, 7, 9])"
            ]
          },
          "metadata": {},
          "execution_count": 23
        }
      ]
    },
    {
      "cell_type": "markdown",
      "source": [
        "Printing the evenly spaced integer within Range and How much space there should be between each interger"
      ],
      "metadata": {
        "id": "cZ_Vz0XuC8tg"
      }
    },
    {
      "cell_type": "code",
      "source": [
        "# 21) Another function same as arange\n",
        "a=np.linspace(1,30,5)\n",
        "a"
      ],
      "metadata": {
        "id": "CgO3DCugUAsp",
        "colab": {
          "base_uri": "https://localhost:8080/"
        },
        "outputId": "f8496a27-a8bd-4e23-ba1e-2a58daa30d86"
      },
      "execution_count": null,
      "outputs": [
        {
          "output_type": "execute_result",
          "data": {
            "text/plain": [
              "array([ 1.  ,  8.25, 15.5 , 22.75, 30.  ])"
            ]
          },
          "metadata": {},
          "execution_count": 24
        }
      ]
    },
    {
      "cell_type": "markdown",
      "source": [
        "Converting the list in the numpy array"
      ],
      "metadata": {
        "id": "I9mP2onpEJ3b"
      }
    },
    {
      "cell_type": "code",
      "source": [
        "# 22) Converting the list into Numpy array\n",
        "list1 = [1,2,3,4,5]\n",
        "np_arr=np.array(list1)\n",
        "np_arr1=np.asarray(list1)\n",
        "np_arr1"
      ],
      "metadata": {
        "id": "FBldl8f4FCha",
        "colab": {
          "base_uri": "https://localhost:8080/"
        },
        "outputId": "36acaf50-1877-47bf-a98f-a0786a7178f1"
      },
      "execution_count": null,
      "outputs": [
        {
          "output_type": "execute_result",
          "data": {
            "text/plain": [
              "array([1, 2, 3, 4, 5])"
            ]
          },
          "metadata": {},
          "execution_count": 25
        }
      ]
    },
    {
      "cell_type": "markdown",
      "source": [
        "Printing the random Matrix of random intergers within a range"
      ],
      "metadata": {
        "id": "Gg9kL1V6FisR"
      }
    },
    {
      "cell_type": "code",
      "source": [
        "# 23) Printing the random array element from the defined range\n",
        "a=np.random.randint(10,100,(5,5))\n",
        "a"
      ],
      "metadata": {
        "id": "SY8rjTUSFv-o",
        "colab": {
          "base_uri": "https://localhost:8080/"
        },
        "outputId": "f640d995-6064-432a-c277-48fc0ab7ae99"
      },
      "execution_count": null,
      "outputs": [
        {
          "output_type": "execute_result",
          "data": {
            "text/plain": [
              "array([[77, 91, 33, 63, 77],\n",
              "       [24, 93, 93, 96, 52],\n",
              "       [40, 33, 58, 67, 45],\n",
              "       [95, 23, 15, 90, 64],\n",
              "       [83, 63, 99, 68, 51]])"
            ]
          },
          "metadata": {},
          "execution_count": 26
        }
      ]
    },
    {
      "cell_type": "markdown",
      "source": [
        "Slicing the array"
      ],
      "metadata": {
        "id": "DiSSCTNxGRSM"
      }
    },
    {
      "cell_type": "code",
      "source": [
        "#24) Slicing the array\n",
        "a = np.array([[1,2,3,4],[5,6,7,8],[9,10,11,12]])\n",
        "print(a[1,3])\n",
        "print(a[4::2])\n",
        "print(a[:5])\n",
        "print(a[-3:-1])\n"
      ],
      "metadata": {
        "id": "v5UpxljzGT4b",
        "colab": {
          "base_uri": "https://localhost:8080/"
        },
        "outputId": "27d9e357-15a1-4dce-caf2-9ad521cb2260"
      },
      "execution_count": null,
      "outputs": [
        {
          "output_type": "stream",
          "name": "stdout",
          "text": [
            "8\n",
            "[]\n",
            "[[ 1  2  3  4]\n",
            " [ 5  6  7  8]\n",
            " [ 9 10 11 12]]\n",
            "[[1 2 3 4]\n",
            " [5 6 7 8]]\n"
          ]
        }
      ]
    },
    {
      "cell_type": "markdown",
      "source": [
        "Printing the array "
      ],
      "metadata": {
        "id": "ZWtIbkZrJRgX"
      }
    },
    {
      "cell_type": "code",
      "source": [
        "#25) Printing the array element in various types\n",
        "print(np.arange(10000))\n",
        "print(np.arange(10000).reshape(100, 100))\n",
        "\n",
        "\n",
        "#To force the numpy to print all the array element\n",
        "np.set_printoptions(threshold=sys.maxsize)\n",
        "print(np.arange(300).reshape(6,50))"
      ],
      "metadata": {
        "id": "TR8nO_xJJXEI",
        "colab": {
          "base_uri": "https://localhost:8080/"
        },
        "outputId": "b2e241eb-9e63-40a8-873a-217677e59adb"
      },
      "execution_count": null,
      "outputs": [
        {
          "output_type": "stream",
          "name": "stdout",
          "text": [
            "[   0    1    2 ... 9997 9998 9999]\n",
            "[[   0    1    2 ...   97   98   99]\n",
            " [ 100  101  102 ...  197  198  199]\n",
            " [ 200  201  202 ...  297  298  299]\n",
            " ...\n",
            " [9700 9701 9702 ... 9797 9798 9799]\n",
            " [9800 9801 9802 ... 9897 9898 9899]\n",
            " [9900 9901 9902 ... 9997 9998 9999]]\n",
            "[[  0   1   2   3   4   5   6   7   8   9  10  11  12  13  14  15  16  17\n",
            "   18  19  20  21  22  23  24  25  26  27  28  29  30  31  32  33  34  35\n",
            "   36  37  38  39  40  41  42  43  44  45  46  47  48  49]\n",
            " [ 50  51  52  53  54  55  56  57  58  59  60  61  62  63  64  65  66  67\n",
            "   68  69  70  71  72  73  74  75  76  77  78  79  80  81  82  83  84  85\n",
            "   86  87  88  89  90  91  92  93  94  95  96  97  98  99]\n",
            " [100 101 102 103 104 105 106 107 108 109 110 111 112 113 114 115 116 117\n",
            "  118 119 120 121 122 123 124 125 126 127 128 129 130 131 132 133 134 135\n",
            "  136 137 138 139 140 141 142 143 144 145 146 147 148 149]\n",
            " [150 151 152 153 154 155 156 157 158 159 160 161 162 163 164 165 166 167\n",
            "  168 169 170 171 172 173 174 175 176 177 178 179 180 181 182 183 184 185\n",
            "  186 187 188 189 190 191 192 193 194 195 196 197 198 199]\n",
            " [200 201 202 203 204 205 206 207 208 209 210 211 212 213 214 215 216 217\n",
            "  218 219 220 221 222 223 224 225 226 227 228 229 230 231 232 233 234 235\n",
            "  236 237 238 239 240 241 242 243 244 245 246 247 248 249]\n",
            " [250 251 252 253 254 255 256 257 258 259 260 261 262 263 264 265 266 267\n",
            "  268 269 270 271 272 273 274 275 276 277 278 279 280 281 282 283 284 285\n",
            "  286 287 288 289 290 291 292 293 294 295 296 297 298 299]]\n"
          ]
        }
      ]
    },
    {
      "cell_type": "code",
      "source": [
        "#26) Taking transpose of the matrix\n",
        "a = np.array([[1,2,3,4],[5,6,7,8],[9,10,11,12]])\n",
        "print(a.T)\n",
        "print(np.transpose(a))"
      ],
      "metadata": {
        "id": "BSrqcWHdVhzN",
        "colab": {
          "base_uri": "https://localhost:8080/"
        },
        "outputId": "5bd8763a-8c1d-4ef2-b4e4-e6529efc642c"
      },
      "execution_count": null,
      "outputs": [
        {
          "output_type": "stream",
          "name": "stdout",
          "text": [
            "[[ 1  5  9]\n",
            " [ 2  6 10]\n",
            " [ 3  7 11]\n",
            " [ 4  8 12]]\n",
            "[[ 1  5  9]\n",
            " [ 2  6 10]\n",
            " [ 3  7 11]\n",
            " [ 4  8 12]]\n"
          ]
        }
      ]
    },
    {
      "cell_type": "code",
      "source": [
        "# 27) copying element of the given array\n",
        "cpy = a.copy()\n",
        "print(cpy)"
      ],
      "metadata": {
        "id": "-vMQQwWaihnK",
        "colab": {
          "base_uri": "https://localhost:8080/"
        },
        "outputId": "647c0462-f5b8-4df0-e2d0-395f7a35f71b"
      },
      "execution_count": null,
      "outputs": [
        {
          "output_type": "stream",
          "name": "stdout",
          "text": [
            "[[ 1  2  3  4]\n",
            " [ 5  6  7  8]\n",
            " [ 9 10 11 12]]\n"
          ]
        }
      ]
    },
    {
      "cell_type": "code",
      "source": [
        "# 28) Viewing does not own the data, any change made to the view will affect original array and viceversa\n",
        "x = a.view()\n",
        "x"
      ],
      "metadata": {
        "id": "neYmI5UBjAum",
        "colab": {
          "base_uri": "https://localhost:8080/"
        },
        "outputId": "02b051d1-5d1c-4456-8003-83685bdb8c7c"
      },
      "execution_count": null,
      "outputs": [
        {
          "output_type": "execute_result",
          "data": {
            "text/plain": [
              "array([[ 1,  2,  3,  4],\n",
              "       [ 5,  6,  7,  8],\n",
              "       [ 9, 10, 11, 12]])"
            ]
          },
          "metadata": {},
          "execution_count": 33
        }
      ]
    },
    {
      "cell_type": "code",
      "source": [
        "#29) Checking if copy and view owes the data with the help of base()\n",
        "d = a.copy()\n",
        "M = a.view()\n",
        "\n",
        "print(d.base)  #Copy returns none\n",
        "print(M.base)  # view returns original array"
      ],
      "metadata": {
        "id": "1pxa0ATljg7-",
        "colab": {
          "base_uri": "https://localhost:8080/"
        },
        "outputId": "2472d627-020c-48af-e793-2a013f64eecd"
      },
      "execution_count": null,
      "outputs": [
        {
          "output_type": "stream",
          "name": "stdout",
          "text": [
            "None\n",
            "[[ 1  2  3  4]\n",
            " [ 5  6  7  8]\n",
            " [ 9 10 11 12]]\n"
          ]
        }
      ]
    },
    {
      "cell_type": "code",
      "source": [
        "# 30) Flattening the arrays\n",
        "d = a.reshape(-1)\n",
        "print(d)"
      ],
      "metadata": {
        "id": "GlS_kEaXkPH8",
        "colab": {
          "base_uri": "https://localhost:8080/"
        },
        "outputId": "549c7d35-d5c3-4373-9c1b-80a8c1d442c2"
      },
      "execution_count": null,
      "outputs": [
        {
          "output_type": "stream",
          "name": "stdout",
          "text": [
            "[ 1  2  3  4  5  6  7  8  9 10 11 12]\n"
          ]
        }
      ]
    },
    {
      "cell_type": "code",
      "source": [
        "#31) iterating through the following 3d array\n",
        "dam = np.array([[[1,2,3],[4,5,6]]])\n",
        "for element in np.nditer(dam):\n",
        "  print(element,)"
      ],
      "metadata": {
        "id": "XgabZ97ck000",
        "colab": {
          "base_uri": "https://localhost:8080/"
        },
        "outputId": "6c31d223-45fa-49dc-fd4b-f07171264539"
      },
      "execution_count": null,
      "outputs": [
        {
          "output_type": "stream",
          "name": "stdout",
          "text": [
            "1\n",
            "2\n",
            "3\n",
            "4\n",
            "5\n",
            "6\n"
          ]
        }
      ]
    },
    {
      "cell_type": "code",
      "source": [
        "#32) Enumerated iterarions using ndenumerate()\n",
        "#Enumerate meand mentioning sequence no. of something one by one \n",
        "arr2=np.array([1,2,3])\n",
        "for index,element in np.ndenumerate(arr2):\n",
        "  print(index,element)"
      ],
      "metadata": {
        "id": "ZPh9j37kCuIG",
        "colab": {
          "base_uri": "https://localhost:8080/"
        },
        "outputId": "225ebbf3-6eac-47a4-a0be-d1d5d30f36b2"
      },
      "execution_count": null,
      "outputs": [
        {
          "output_type": "stream",
          "name": "stdout",
          "text": [
            "(0,) 1\n",
            "(1,) 2\n",
            "(2,) 3\n"
          ]
        }
      ]
    },
    {
      "cell_type": "code",
      "source": [
        "#33) Joining using Stack\n",
        "b = np.array([1,2,3])\n",
        "c = np.array([4,5,6])\n",
        "d= np.stack((b,c),axis =1)\n",
        "print(d)"
      ],
      "metadata": {
        "id": "S0qUyIivE1bZ",
        "colab": {
          "base_uri": "https://localhost:8080/"
        },
        "outputId": "38d5d2d3-eb19-4869-b024-c73c02e5e9af"
      },
      "execution_count": null,
      "outputs": [
        {
          "output_type": "stream",
          "name": "stdout",
          "text": [
            "[[1 4]\n",
            " [2 5]\n",
            " [3 6]]\n"
          ]
        }
      ]
    },
    {
      "cell_type": "code",
      "source": [
        "#34) Stacking along rows using hstack()\n",
        "d =np.hstack((b,c))\n",
        "print(d)"
      ],
      "metadata": {
        "id": "0o5nlUBjFhwL",
        "colab": {
          "base_uri": "https://localhost:8080/"
        },
        "outputId": "bf026634-b0a6-4971-ed75-f8cb769fd788"
      },
      "execution_count": null,
      "outputs": [
        {
          "output_type": "stream",
          "name": "stdout",
          "text": [
            "[1 2 3 4 5 6]\n"
          ]
        }
      ]
    },
    {
      "cell_type": "code",
      "source": [
        "#35 Stacking a;ong columns using vstack()\n",
        "d=np.vstack((b,c))\n",
        "print(d)"
      ],
      "metadata": {
        "id": "iHWe92NOF0xe",
        "colab": {
          "base_uri": "https://localhost:8080/"
        },
        "outputId": "64e9e037-3845-464e-ef65-b52633f7e05f"
      },
      "execution_count": null,
      "outputs": [
        {
          "output_type": "stream",
          "name": "stdout",
          "text": [
            "[[1 2 3]\n",
            " [4 5 6]]\n"
          ]
        }
      ]
    },
    {
      "cell_type": "code",
      "source": [
        "#36) Stacking along Height (depth) using dstack()\n",
        "d= np.dstack"
      ],
      "metadata": {
        "id": "7vbOEerpGFBG"
      },
      "execution_count": null,
      "outputs": []
    },
    {
      "cell_type": "code",
      "source": [
        "#37) Sorting\n",
        "arr = [3,2,5,7,6,8,8,9,2,1,0]\n",
        "arr.sort()\n",
        "print(arr)"
      ],
      "metadata": {
        "colab": {
          "base_uri": "https://localhost:8080/"
        },
        "id": "CH5MtNvV2Y3n",
        "outputId": "7204a9aa-28c5-4a11-c6f2-eb9f41e0203f"
      },
      "execution_count": null,
      "outputs": [
        {
          "output_type": "stream",
          "name": "stdout",
          "text": [
            "[0, 1, 2, 2, 3, 5, 6, 7, 8, 8, 9]\n"
          ]
        }
      ]
    },
    {
      "cell_type": "code",
      "source": [
        "#38) Generating the random interger from range 1 to 100\n",
        "i = np.random.randint(1,100,1)\n",
        "print(i) \n",
        "\n",
        "#generating the random float from range 1 to 100\n",
        "j = np.random.rand(1)\n",
        "print(j)"
      ],
      "metadata": {
        "colab": {
          "base_uri": "https://localhost:8080/"
        },
        "id": "Qj-ZKwJ321P-",
        "outputId": "6257bc02-7c69-493d-a1f7-623429a8183f"
      },
      "execution_count": null,
      "outputs": [
        {
          "output_type": "stream",
          "name": "stdout",
          "text": [
            "[7]\n",
            "[0.8877546]\n"
          ]
        }
      ]
    },
    {
      "cell_type": "code",
      "source": [
        "#39) Generating the Random Array\n",
        "i = np.random.randint(100,size = (5))\n",
        "print(i)\n",
        "\n",
        "#Generate 2-D array randomly\n",
        "j = np.random.randint(100,size = (4,5))\n",
        "print(j)\n",
        "\n",
        "#Generate Random Number from Array --> choice()\n",
        "i = np.random.choice([2,4,5,6,2,3])\n",
        "print(i)"
      ],
      "metadata": {
        "colab": {
          "base_uri": "https://localhost:8080/"
        },
        "id": "1Elt7jBU3M4N",
        "outputId": "1be0aaa6-de08-4a14-c820-62d93a075c55"
      },
      "execution_count": null,
      "outputs": [
        {
          "output_type": "stream",
          "name": "stdout",
          "text": [
            "[66 23 81 73 77]\n",
            "[[22 16 59 26 20]\n",
            " [ 4 79 63 48 76]\n",
            " [12 37 92 29 20]\n",
            " [85 80 92 89 23]]\n",
            "3\n"
          ]
        }
      ]
    },
    {
      "cell_type": "code",
      "source": [
        "#40) Trignometric Function\n",
        "i = np.sin(np.pi/2)\n",
        "print(i)"
      ],
      "metadata": {
        "colab": {
          "base_uri": "https://localhost:8080/"
        },
        "id": "rA9wRIHT4lFo",
        "outputId": "7f79f383-02bc-4394-9f17-ca64e6f865b1"
      },
      "execution_count": null,
      "outputs": [
        {
          "output_type": "stream",
          "name": "stdout",
          "text": [
            "1.0\n"
          ]
        }
      ]
    },
    {
      "cell_type": "code",
      "source": [
        "#41) Converting all of the values in following array to randians\n",
        "j = np.array([90,180,270,360])\n",
        "k = np.deg2rad(j)\n",
        "print(k)\n",
        "\n",
        "#similarly rad2deg() function can be used to convert the radian to degree"
      ],
      "metadata": {
        "colab": {
          "base_uri": "https://localhost:8080/"
        },
        "id": "fiKDHvTN49gt",
        "outputId": "de26aa1a-ce14-4899-b8fb-39f4f806e811"
      },
      "execution_count": null,
      "outputs": [
        {
          "output_type": "stream",
          "name": "stdout",
          "text": [
            "[1.57079633 3.14159265 4.71238898 6.28318531]\n"
          ]
        }
      ]
    },
    {
      "cell_type": "code",
      "source": [
        "#42) finding the angle \n",
        "l = np.arcsin(1.0)\n",
        "print(l)"
      ],
      "metadata": {
        "colab": {
          "base_uri": "https://localhost:8080/"
        },
        "id": "zLPPffd35rRX",
        "outputId": "828f112d-e6b9-449c-c66c-666f82cdae72"
      },
      "execution_count": null,
      "outputs": [
        {
          "output_type": "stream",
          "name": "stdout",
          "text": [
            "1.5707963267948966\n"
          ]
        }
      ]
    },
    {
      "cell_type": "code",
      "source": [
        "#43) Hypotaneous\n",
        "base = 3\n",
        "perp =4\n",
        "l = np.hypot(base,perp)\n",
        "print(l)"
      ],
      "metadata": {
        "colab": {
          "base_uri": "https://localhost:8080/"
        },
        "id": "8wItLplj55WI",
        "outputId": "98f3c27d-d6e2-4aa2-8aea-ecd97f7934a6"
      },
      "execution_count": null,
      "outputs": [
        {
          "output_type": "stream",
          "name": "stdout",
          "text": [
            "5.0\n"
          ]
        }
      ]
    },
    {
      "cell_type": "code",
      "source": [
        "#44) Greatest Common devisor\n",
        "#also known as HCF\n",
        "num1 =6\n",
        "num2 = 69\n",
        "l = np.gcd(num1,num2)\n",
        "print(l)\n",
        "\n",
        "#reduce used for arrays\n",
        "arr = np.array([20,8,32,36,16])\n",
        "l = np.gcd.reduce(arr)\n",
        "print(l)"
      ],
      "metadata": {
        "colab": {
          "base_uri": "https://localhost:8080/"
        },
        "id": "YF_NkVZO6P5P",
        "outputId": "a1c4f075-4161-4415-b314-b87a8b912016"
      },
      "execution_count": null,
      "outputs": [
        {
          "output_type": "stream",
          "name": "stdout",
          "text": [
            "3\n",
            "4\n"
          ]
        }
      ]
    },
    {
      "cell_type": "code",
      "source": [
        "#45) Difference (Discrete)\n",
        "arr = np.array([10,20,25,15])\n",
        "newarr = np.diff(arr)\n",
        "print(newarr)\n",
        "\n",
        "#Computing the difference (Discrete) of the array twice\n",
        "newarr = np.diff(arr, n=2)\n",
        "print(newarr)"
      ],
      "metadata": {
        "colab": {
          "base_uri": "https://localhost:8080/"
        },
        "id": "NZr3ctiJ7FSa",
        "outputId": "bcfe2d49-549d-44f9-d73d-50bd8b8f6cfd"
      },
      "execution_count": null,
      "outputs": [
        {
          "output_type": "stream",
          "name": "stdout",
          "text": [
            "[ 10   5 -10]\n",
            "[ -5 -15]\n"
          ]
        }
      ]
    },
    {
      "cell_type": "code",
      "source": [
        "#46) Product \n",
        "arr = np.array([1,2,3,4,5])\n",
        "newArr = np.product(arr)\n",
        "print(newArr)"
      ],
      "metadata": {
        "colab": {
          "base_uri": "https://localhost:8080/"
        },
        "id": "bPHIMqQz7dvQ",
        "outputId": "544fde6c-ed8b-4fc9-a2f0-79d951d90d44"
      },
      "execution_count": null,
      "outputs": [
        {
          "output_type": "stream",
          "name": "stdout",
          "text": [
            "120\n"
          ]
        }
      ]
    },
    {
      "cell_type": "code",
      "source": [
        "#47)Product of the two array\n",
        "a1 = np.array([1,2,3,4,5])\n",
        "a2 = np.array([6,7,8,9,10])\n",
        "a3 = np.product([a1,a2])\n",
        "print(a3)"
      ],
      "metadata": {
        "colab": {
          "base_uri": "https://localhost:8080/"
        },
        "id": "ulZFXtE28YAo",
        "outputId": "03a9e345-cbaa-44d4-c571-82cc23acd658"
      },
      "execution_count": null,
      "outputs": [
        {
          "output_type": "stream",
          "name": "stdout",
          "text": [
            "3628800\n"
          ]
        }
      ]
    },
    {
      "cell_type": "code",
      "source": [
        "#48) Product of array over axis\n",
        "a4 = np.product([a1,a2],axis = 1)\n",
        "print(a4)"
      ],
      "metadata": {
        "colab": {
          "base_uri": "https://localhost:8080/"
        },
        "id": "eKCNegP_8wem",
        "outputId": "5d4a3c06-e18a-446d-80e8-8184cec4ce47"
      },
      "execution_count": null,
      "outputs": [
        {
          "output_type": "stream",
          "name": "stdout",
          "text": [
            "[  120 30240]\n"
          ]
        }
      ]
    },
    {
      "cell_type": "code",
      "source": [
        "#49) Cumulative Product\n",
        "a5 = np.array([1,2,3,4])\n",
        "newArr1 = np.cumprod(a5)\n",
        "print(newArr1)\n",
        "\n",
        "#similarly Cumulative Sum\n",
        "a6 = np.sum([a1,a2])\n",
        "print(a6)"
      ],
      "metadata": {
        "colab": {
          "base_uri": "https://localhost:8080/"
        },
        "id": "FAbaijNW9DOO",
        "outputId": "94a3cc0a-10a5-47a3-be4e-e5114beacdfd"
      },
      "execution_count": null,
      "outputs": [
        {
          "output_type": "stream",
          "name": "stdout",
          "text": [
            "[ 1  2  6 24]\n",
            "55\n"
          ]
        }
      ]
    },
    {
      "cell_type": "code",
      "source": [
        "#50) Capitalising Only first character of the string\n",
        "print(np.char.capitalize('hello world'))\n",
        "\n",
        "# title\n",
        "print(np.char.title(\"hello how are you\"))\n",
        "\n",
        "# lower()\n",
        "print(np.char.lower(['HELLO', 'WORLD']))\n",
        "print(np.char.lower(\"HELLO\"))\n",
        "\n",
        "#replace\n",
        "print(np.char.replace('He is a good boy','is','was'))"
      ],
      "metadata": {
        "colab": {
          "base_uri": "https://localhost:8080/"
        },
        "id": "-8YnoY3R992-",
        "outputId": "6db306b1-34b6-4519-f59c-ccb9d8134b1f"
      },
      "execution_count": null,
      "outputs": [
        {
          "output_type": "stream",
          "name": "stdout",
          "text": [
            "Hello world\n",
            "Hello How Are You\n",
            "['hello' 'world']\n",
            "hello\n",
            "He was a good boy\n"
          ]
        }
      ]
    }
  ]
}